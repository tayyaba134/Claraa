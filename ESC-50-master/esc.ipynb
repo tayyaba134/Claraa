{
 "cells": [
  {
   "cell_type": "code",
   "execution_count": 1,
   "metadata": {},
   "outputs": [],
   "source": [
    "import os\n",
    "import tarfile\n",
    "import pandas as pd"
   ]
  },
  {
   "cell_type": "code",
   "execution_count": 2,
   "metadata": {},
   "outputs": [],
   "source": [
    "# Adjust the path to where your ESC50 CSV metadata file is located\n",
    "metadata_path = r'C:\\Users\\PMLS\\Documents\\BiCLARA-master\\ESC-50-master\\meta\\esc50.csv'\n",
    "metadata = pd.read_csv(metadata_path)"
   ]
  },
  {
   "cell_type": "code",
   "execution_count": 3,
   "metadata": {},
   "outputs": [],
   "source": [
    "def add_files_to_tar(tar, category, root_dir):\n",
    "    # This function adds files to the tar file based on category\n",
    "    subset = metadata[metadata['category'] == category]\n",
    "    for _, row in subset.iterrows():\n",
    "        filepath = os.path.join(root_dir, 'audio', row['filename'])\n",
    "        tar.add(filepath, arcname=row['filename'])"
   ]
  },
  {
   "cell_type": "code",
   "execution_count": 5,
   "metadata": {},
   "outputs": [
    {
     "name": "stdout",
     "output_type": "stream",
     "text": [
      "Created tar file: esc50-dog.tar\n",
      "Created tar file: esc50-chirping_birds.tar\n",
      "Created tar file: esc50-vacuum_cleaner.tar\n",
      "Created tar file: esc50-thunderstorm.tar\n",
      "Created tar file: esc50-door_wood_knock.tar\n",
      "Created tar file: esc50-can_opening.tar\n",
      "Created tar file: esc50-crow.tar\n",
      "Created tar file: esc50-clapping.tar\n",
      "Created tar file: esc50-fireworks.tar\n",
      "Created tar file: esc50-chainsaw.tar\n",
      "Created tar file: esc50-airplane.tar\n",
      "Created tar file: esc50-mouse_click.tar\n",
      "Created tar file: esc50-pouring_water.tar\n",
      "Created tar file: esc50-train.tar\n",
      "Created tar file: esc50-sheep.tar\n",
      "Created tar file: esc50-water_drops.tar\n",
      "Created tar file: esc50-church_bells.tar\n",
      "Created tar file: esc50-clock_alarm.tar\n",
      "Created tar file: esc50-keyboard_typing.tar\n",
      "Created tar file: esc50-wind.tar\n",
      "Created tar file: esc50-footsteps.tar\n",
      "Created tar file: esc50-frog.tar\n",
      "Created tar file: esc50-cow.tar\n",
      "Created tar file: esc50-brushing_teeth.tar\n",
      "Created tar file: esc50-car_horn.tar\n",
      "Created tar file: esc50-crackling_fire.tar\n",
      "Created tar file: esc50-helicopter.tar\n",
      "Created tar file: esc50-drinking_sipping.tar\n",
      "Created tar file: esc50-rain.tar\n",
      "Created tar file: esc50-insects.tar\n",
      "Created tar file: esc50-laughing.tar\n",
      "Created tar file: esc50-hen.tar\n",
      "Created tar file: esc50-engine.tar\n",
      "Created tar file: esc50-breathing.tar\n",
      "Created tar file: esc50-crying_baby.tar\n",
      "Created tar file: esc50-hand_saw.tar\n",
      "Created tar file: esc50-coughing.tar\n",
      "Created tar file: esc50-glass_breaking.tar\n",
      "Created tar file: esc50-snoring.tar\n",
      "Created tar file: esc50-toilet_flush.tar\n",
      "Created tar file: esc50-pig.tar\n",
      "Created tar file: esc50-washing_machine.tar\n",
      "Created tar file: esc50-clock_tick.tar\n",
      "Created tar file: esc50-sneezing.tar\n",
      "Created tar file: esc50-rooster.tar\n",
      "Created tar file: esc50-sea_waves.tar\n",
      "Created tar file: esc50-siren.tar\n",
      "Created tar file: esc50-cat.tar\n",
      "Created tar file: esc50-door_wood_creaks.tar\n",
      "Created tar file: esc50-crickets.tar\n"
     ]
    }
   ],
   "source": [
    "root_dir = r'C:\\Users\\PMLS\\Documents\\BiCLARA-master\\ESC-50-master'  # Root directory where the ESC50 dataset is stored\n",
    "categories = metadata['category'].unique()\n",
    "\n",
    "for category in categories:\n",
    "    tar_filename = f'esc50-{category}.tar'\n",
    "    with tarfile.open(tar_filename, 'w') as tar:\n",
    "        add_files_to_tar(tar, category, root_dir)\n",
    "    print(f'Created tar file: {tar_filename}')"
   ]
  }
 ],
 "metadata": {
  "kernelspec": {
   "display_name": "base",
   "language": "python",
   "name": "python3"
  },
  "language_info": {
   "codemirror_mode": {
    "name": "ipython",
    "version": 3
   },
   "file_extension": ".py",
   "mimetype": "text/x-python",
   "name": "python",
   "nbconvert_exporter": "python",
   "pygments_lexer": "ipython3",
   "version": "3.11.7"
  }
 },
 "nbformat": 4,
 "nbformat_minor": 2
}
